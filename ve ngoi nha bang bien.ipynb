{
 "cells": [
  {
   "cell_type": "code",
   "execution_count": null,
   "id": "fe2c8757",
   "metadata": {},
   "outputs": [],
   "source": [
    "#vẽ ngôi nhà sử dụng biến\n",
    "a = int(input('cạnh cãu ngôi nhà: '))\n",
    "\n",
    "import turtle\n",
    "t = turtle.Turtle()\n",
    "\n",
    "t.speed(0)\n",
    "\n",
    "for i in range (4):\n",
    "  t.forward(a)\n",
    "  t.right(90) \n",
    "\n",
    "for i in range (3):\n",
    "  t.forward(a)\n",
    "  t.left(120)"
   ]
  }
 ],
 "metadata": {
  "kernelspec": {
   "display_name": "Python 3 (ipykernel)",
   "language": "python",
   "name": "python3"
  },
  "language_info": {
   "codemirror_mode": {
    "name": "ipython",
    "version": 3
   },
   "file_extension": ".py",
   "mimetype": "text/x-python",
   "name": "python",
   "nbconvert_exporter": "python",
   "pygments_lexer": "ipython3",
   "version": "3.9.12"
  }
 },
 "nbformat": 4,
 "nbformat_minor": 5
}
